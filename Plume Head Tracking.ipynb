{
 "cells": [
  {
   "cell_type": "markdown",
   "id": "abbc4e3a",
   "metadata": {},
   "source": [
    "# Export Frames"
   ]
  },
  {
   "cell_type": "code",
   "execution_count": 3,
   "id": "3c5189f3",
   "metadata": {},
   "outputs": [],
   "source": [
    "import cv2\n",
    "import os\n",
    "\n",
    "# Set the output directory\n",
    "outdir = './auto_frames_1s_s3_1H'\n",
    "\n",
    "# Use VideoCapture to read in the video\n",
    "video_path = 'station3_site1H_clipped.mp4'\n",
    "vidObj = cv2.VideoCapture(video_path)\n",
    "\n",
    "# Get video information\n",
    "NFrames = int(vidObj.get(cv2.CAP_PROP_FRAME_COUNT))\n",
    "Nrows = int(vidObj.get(cv2.CAP_PROP_FRAME_HEIGHT))\n",
    "Ncols = int(vidObj.get(cv2.CAP_PROP_FRAME_WIDTH))\n",
    "\n",
    "# Read a subset of frames\n",
    "step = 30  # 1 frame per second\n",
    "frameset = list(range(0, NFrames, step))\n",
    "num2read = len(frameset)\n",
    "\n",
    "# Create the output directory if it doesn't exist\n",
    "os.makedirs(outdir, exist_ok=True)\n",
    "\n",
    "# Loop through frames and save as JPEG\n",
    "for i in frameset:\n",
    "    # Set the frame position\n",
    "    vidObj.set(cv2.CAP_PROP_POS_FRAMES, i)\n",
    "    # Read the frame\n",
    "    ret, thisframe = vidObj.read()\n",
    "    if ret:\n",
    "        # Give it a unique name\n",
    "        imgname = f'frame{i}.jpg'\n",
    "        # Save as JPEG\n",
    "        cv2.imwrite(os.path.join(outdir, imgname), thisframe)\n",
    "\n",
    "# Release the video object\n",
    "vidObj.release()\n"
   ]
  },
  {
   "cell_type": "markdown",
   "id": "cad3e44f",
   "metadata": {},
   "source": [
    "# Capture Plume Head"
   ]
  },
  {
   "cell_type": "markdown",
   "id": "7bfd6b3e",
   "metadata": {},
   "source": [
    "This part is on matlab"
   ]
  }
 ],
 "metadata": {
  "kernelspec": {
   "display_name": "Python 3 (ipykernel)",
   "language": "python",
   "name": "python3"
  },
  "language_info": {
   "codemirror_mode": {
    "name": "ipython",
    "version": 3
   },
   "file_extension": ".py",
   "mimetype": "text/x-python",
   "name": "python",
   "nbconvert_exporter": "python",
   "pygments_lexer": "ipython3",
   "version": "3.10.4"
  }
 },
 "nbformat": 4,
 "nbformat_minor": 5
}
